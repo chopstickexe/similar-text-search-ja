{
 "metadata": {
  "language_info": {
   "codemirror_mode": {
    "name": "ipython",
    "version": 3
   },
   "file_extension": ".py",
   "mimetype": "text/x-python",
   "name": "python",
   "nbconvert_exporter": "python",
   "pygments_lexer": "ipython3",
   "version": "3.7.7-final"
  },
  "orig_nbformat": 2,
  "kernelspec": {
   "name": "python3",
   "display_name": "Python 3"
  }
 },
 "nbformat": 4,
 "nbformat_minor": 2,
 "cells": [
  {
   "cell_type": "code",
   "execution_count": 1,
   "metadata": {},
   "outputs": [
    {
     "output_type": "stream",
     "name": "stdout",
     "text": [
      "<class 'transformers.tokenization_bert_japanese.BertJapaneseTokenizer'>\n<class 'sentence_transformers.SentenceTransformer.SentenceTransformer'>\n"
     ]
    }
   ],
   "source": [
    "from sentence_transformers import SentenceTransformer\n",
    "from sentence_transformers import models\n",
    "\n",
    "transformer = models.Transformer('cl-tohoku/bert-base-japanese-whole-word-masking')\n",
    "pooling = models.Pooling(transformer.get_word_embedding_dimension(), pooling_mode_mean_tokens=True, pooling_mode_cls_token=False, pooling_mode_max_tokens=False)\n",
    "model = SentenceTransformer(modules=[transformer, pooling])\n",
    "\n",
    "print(type(model.tokenizer))\n",
    "print(type(model))"
   ]
  },
  {
   "cell_type": "code",
   "execution_count": 2,
   "metadata": {},
   "outputs": [
    {
     "output_type": "stream",
     "name": "stdout",
     "text": [
      "[0] : (768,)\n[1] : (768,)\n"
     ]
    }
   ],
   "source": [
    "sentences = ['吾輩は猫である',  '本日は晴天なり']\n",
    "embeddings = model.encode(sentences)\n",
    "\n",
    "for i, embedding in enumerate(embeddings):\n",
    "    print(\"[%d] : %s\" % (i, embedding.shape, ))"
   ]
  },
  {
   "cell_type": "code",
   "execution_count": 3,
   "metadata": {},
   "outputs": [
    {
     "output_type": "stream",
     "name": "stdout",
     "text": [
      "(768,)\n(768,)\n"
     ]
    }
   ],
   "source": [
    "model = SentenceTransformer(\"../models/mlit-sample\", device=\"cuda\")\n",
    "embeddings = model.encode(sentences)\n",
    "for embedding in embeddings:\n",
    "    print(f\"{embedding.shape}\")"
   ]
  },
  {
   "cell_type": "code",
   "execution_count": 4,
   "metadata": {},
   "outputs": [
    {
     "output_type": "execute_result",
     "data": {
      "text/plain": [
       "[7184, 8542, 9, 6040, 12, 16071]"
      ]
     },
     "metadata": {},
     "execution_count": 4
    }
   ],
   "source": [
    "model.tokenize(sentences[0])"
   ]
  },
  {
   "cell_type": "code",
   "execution_count": 5,
   "metadata": {},
   "outputs": [
    {
     "output_type": "execute_result",
     "data": {
      "text/plain": [
       "['[CLS]',\n",
       " '吾',\n",
       " '輩',\n",
       " 'は',\n",
       " '猫',\n",
       " 'で',\n",
       " '##ある',\n",
       " '[SEP]',\n",
       " '[CLS]',\n",
       " '本',\n",
       " '日',\n",
       " 'は',\n",
       " '晴',\n",
       " '天',\n",
       " 'なり',\n",
       " '[SEP]']"
      ]
     },
     "metadata": {},
     "execution_count": 5
    }
   ],
   "source": [
    "encode_result = model.tokenizer(sentences, return_tensors=\"pt\", padding=True)\n",
    "model.tokenizer.convert_ids_to_tokens(encode_result.input_ids.flatten().tolist())"
   ]
  },
  {
   "cell_type": "code",
   "execution_count": 6,
   "metadata": {},
   "outputs": [
    {
     "output_type": "execute_result",
     "data": {
      "text/plain": [
       "transformers.tokenization_bert.BertTokenizer"
      ]
     },
     "metadata": {},
     "execution_count": 6
    }
   ],
   "source": [
    "type(model.tokenizer)"
   ]
  },
  {
   "cell_type": "code",
   "execution_count": null,
   "metadata": {},
   "outputs": [],
   "source": []
  }
 ]
}