{
 "metadata": {
  "language_info": {
   "codemirror_mode": {
    "name": "ipython",
    "version": 3
   },
   "file_extension": ".py",
   "mimetype": "text/x-python",
   "name": "python",
   "nbconvert_exporter": "python",
   "pygments_lexer": "ipython3",
   "version": "3.7.7-final"
  },
  "orig_nbformat": 2,
  "kernelspec": {
   "name": "python3",
   "display_name": "Python 3.7.7 64-bit ('.venv': venv)",
   "metadata": {
    "interpreter": {
     "hash": "a71705fd6155cde688915e3d4dcc098fb96ba5faed4378cbb17a84687c5af173"
    }
   }
  }
 },
 "nbformat": 4,
 "nbformat_minor": 2,
 "cells": [
  {
   "source": [
    "# Sentence vector examples using Huggingface BERT models\n",
    "\n",
    "Reference:\n",
    "\n",
    "- https://github.com/BramVanroy/bert-for-inference/blob/master/introduction-to-bert.ipynb\n",
    "- https://qiita.com/sugulu_Ogawa_ISID/items/e522a38b812b8edb8a54\n"
   ],
   "cell_type": "markdown",
   "metadata": {}
  },
  {
   "cell_type": "code",
   "execution_count": 2,
   "metadata": {
    "tags": []
   },
   "outputs": [],
   "source": [
    "import torch\n",
    "from transformers.modeling_bert import BertModel\n",
    "from transformers.tokenization_bert_japanese import BertJapaneseTokenizer\n",
    "\n",
    "tokenizer = BertJapaneseTokenizer.from_pretrained('cl-tohoku/bert-base-japanese-whole-word-masking')\n",
    "model = BertModel.from_pretrained('cl-tohoku/bert-base-japanese-whole-word-masking', output_hidden_states=True, return_dict=True)\n",
    "device = 'cuda' if torch.cuda.is_available() else 'cpu'\n",
    "model = model.to(device)"
   ]
  },
  {
   "cell_type": "code",
   "execution_count": 4,
   "metadata": {
    "tags": []
   },
   "outputs": [
    {
     "output_type": "execute_result",
     "data": {
      "text/plain": [
       "transformers.tokenization_bert_japanese.BertJapaneseTokenizer"
      ]
     },
     "metadata": {},
     "execution_count": 4
    }
   ],
   "source": [
    "type(tokenizer)"
   ]
  },
  {
   "cell_type": "code",
   "execution_count": 5,
   "metadata": {},
   "outputs": [
    {
     "output_type": "execute_result",
     "data": {
      "text/plain": [
       "{'input_ids': tensor([[    2,  7184, 30046,     9,  6040,    12,    31,     3],\n",
       "        [    2,   108, 28486,     9,  4798, 28849,   297,     3]]), 'token_type_ids': tensor([[0, 0, 0, 0, 0, 0, 0, 0],\n",
       "        [0, 0, 0, 0, 0, 0, 0, 0]]), 'attention_mask': tensor([[1, 1, 1, 1, 1, 1, 1, 1],\n",
       "        [1, 1, 1, 1, 1, 1, 1, 1]])}"
      ]
     },
     "metadata": {},
     "execution_count": 5
    }
   ],
   "source": [
    "sentences = ['吾輩は猫である', '本日は晴天なり']\n",
    "encoded = tokenizer(sentences, return_tensors='pt', padding=True)\n",
    "encoded\n"
   ]
  },
  {
   "cell_type": "code",
   "execution_count": 6,
   "metadata": {},
   "outputs": [
    {
     "output_type": "execute_result",
     "data": {
      "text/plain": [
       "['[CLS]',\n",
       " '吾',\n",
       " '##輩',\n",
       " 'は',\n",
       " '猫',\n",
       " 'で',\n",
       " 'ある',\n",
       " '[SEP]',\n",
       " '[CLS]',\n",
       " '本',\n",
       " '##日',\n",
       " 'は',\n",
       " '晴',\n",
       " '##天',\n",
       " 'なり',\n",
       " '[SEP]']"
      ]
     },
     "metadata": {},
     "execution_count": 6
    }
   ],
   "source": [
    "tokenizer.convert_ids_to_tokens(encoded.input_ids.flatten().tolist())"
   ]
  },
  {
   "cell_type": "code",
   "execution_count": 7,
   "metadata": {},
   "outputs": [
    {
     "output_type": "execute_result",
     "data": {
      "text/plain": [
       "['[CLS]',\n",
       " '会社',\n",
       " 'を',\n",
       " 'クビ',\n",
       " 'に',\n",
       " 'なっ',\n",
       " 'た',\n",
       " '。',\n",
       " '[SEP]',\n",
       " '[PAD]',\n",
       " '[PAD]',\n",
       " '[CLS]',\n",
       " 'テレ',\n",
       " '##ワーク',\n",
       " 'ばかり',\n",
       " 'で',\n",
       " 'クビ',\n",
       " 'が',\n",
       " '痛',\n",
       " '##い',\n",
       " '。',\n",
       " '[SEP]',\n",
       " '[CLS]',\n",
       " '会社',\n",
       " 'を',\n",
       " '解雇',\n",
       " 'さ',\n",
       " 'れ',\n",
       " 'た',\n",
       " '。',\n",
       " '[SEP]',\n",
       " '[PAD]',\n",
       " '[PAD]',\n",
       " '[CLS]',\n",
       " 'す',\n",
       " '##も',\n",
       " '##も',\n",
       " 'も',\n",
       " 'もも',\n",
       " 'も',\n",
       " 'もも',\n",
       " 'の',\n",
       " 'うち',\n",
       " '[SEP]']"
      ]
     },
     "metadata": {},
     "execution_count": 7
    }
   ],
   "source": [
    "# Got samples from https://qiita.com/sugulu_Ogawa_ISID/items/e522a38b812b8edb8a54\n",
    "sentences = [\"会社をクビになった。\", \"テレワークばかりでクビが痛い。\", \"会社を解雇された。\", \"すもももももももものうち\"]\n",
    "encoded = tokenizer(sentences, return_tensors='pt', padding=True)\n",
    "tokenizer.convert_ids_to_tokens(encoded.input_ids.flatten().tolist())"
   ]
  },
  {
   "cell_type": "code",
   "execution_count": 13,
   "metadata": {
    "tags": []
   },
   "outputs": [
    {
     "output_type": "execute_result",
     "data": {
      "text/plain": [
       "4"
      ]
     },
     "metadata": {},
     "execution_count": 13
    }
   ],
   "source": [
    "encoded.to(device)\n",
    "with torch.no_grad():\n",
    "    outputs = model(**encoded)\n",
    "len(outputs.last_hidden_state)"
   ]
  },
  {
   "cell_type": "code",
   "execution_count": 14,
   "metadata": {
    "tags": []
   },
   "outputs": [
    {
     "output_type": "error",
     "ename": "NameError",
     "evalue": "name 'cos' is not defined",
     "traceback": [
      "\u001b[0;31m---------------------------------------------------------------------------\u001b[0m",
      "\u001b[0;31mNameError\u001b[0m                                 Traceback (most recent call last)",
      "\u001b[0;32m<ipython-input-14-b29f07940efa>\u001b[0m in \u001b[0;36m<module>\u001b[0;34m\u001b[0m\n\u001b[1;32m      4\u001b[0m \u001b[0msent_vec_cls4\u001b[0m \u001b[0;34m=\u001b[0m \u001b[0moutputs\u001b[0m\u001b[0;34m.\u001b[0m\u001b[0mlast_hidden_state\u001b[0m\u001b[0;34m[\u001b[0m\u001b[0;36m3\u001b[0m\u001b[0;34m]\u001b[0m\u001b[0;34m[\u001b[0m\u001b[0;36m0\u001b[0m\u001b[0;34m]\u001b[0m\u001b[0;34m[\u001b[0m\u001b[0;34m:\u001b[0m\u001b[0;34m]\u001b[0m\u001b[0;34m\u001b[0m\u001b[0;34m\u001b[0m\u001b[0m\n\u001b[1;32m      5\u001b[0m \u001b[0;34m\u001b[0m\u001b[0m\n\u001b[0;32m----> 6\u001b[0;31m \u001b[0mcos_sim_12\u001b[0m \u001b[0;34m=\u001b[0m \u001b[0mcos\u001b[0m\u001b[0;34m(\u001b[0m\u001b[0msent_vec_cls1\u001b[0m\u001b[0;34m,\u001b[0m \u001b[0msent_vec_cls2\u001b[0m\u001b[0;34m)\u001b[0m\u001b[0;34m\u001b[0m\u001b[0;34m\u001b[0m\u001b[0m\n\u001b[0m\u001b[1;32m      7\u001b[0m \u001b[0mcos_sim_13\u001b[0m \u001b[0;34m=\u001b[0m \u001b[0mcos\u001b[0m\u001b[0;34m(\u001b[0m\u001b[0msent_vec_cls1\u001b[0m\u001b[0;34m,\u001b[0m \u001b[0msent_vec_cls3\u001b[0m\u001b[0;34m)\u001b[0m\u001b[0;34m\u001b[0m\u001b[0;34m\u001b[0m\u001b[0m\n\u001b[1;32m      8\u001b[0m \u001b[0mcos_sim_14\u001b[0m \u001b[0;34m=\u001b[0m \u001b[0mcos\u001b[0m\u001b[0;34m(\u001b[0m\u001b[0msent_vec_cls1\u001b[0m\u001b[0;34m,\u001b[0m \u001b[0msent_vec_cls4\u001b[0m\u001b[0;34m)\u001b[0m\u001b[0;34m\u001b[0m\u001b[0;34m\u001b[0m\u001b[0m\n",
      "\u001b[0;31mNameError\u001b[0m: name 'cos' is not defined"
     ]
    }
   ],
   "source": [
    "sent_vec_cls1 = outputs.last_hidden_state[0][0][:]\n",
    "sent_vec_cls2 = outputs.last_hidden_state[1][0][:]\n",
    "sent_vec_cls3 = outputs.last_hidden_state[2][0][:]\n",
    "sent_vec_cls4 = outputs.last_hidden_state[3][0][:]\n",
    "\n",
    "cos_sim_12 = cos(sent_vec_cls1, sent_vec_cls2)\n",
    "cos_sim_13 = cos(sent_vec_cls1, sent_vec_cls3)\n",
    "cos_sim_14 = cos(sent_vec_cls1, sent_vec_cls4)\n",
    "print(cos_sim_12)\n",
    "print(cos_sim_13)\n",
    "print(cos_sim_14)\n"
   ]
  },
  {
   "cell_type": "code",
   "execution_count": 10,
   "metadata": {
    "tags": []
   },
   "outputs": [
    {
     "output_type": "stream",
     "name": "stdout",
     "text": "13\ntorch.Size([768])\ntensor(0.8348, device='cuda:0')\ntensor(0.9370, device='cuda:0')\ntensor(0.6194, device='cuda:0')\n"
    }
   ],
   "source": [
    "hidden_states1 = result1[2]\n",
    "print(len(hidden_states1))\n",
    "\n",
    "sent_vec_avg1 = torch.mean(hidden_states1[-1], dim=1).squeeze()\n",
    "print(sent_vec_avg1.shape)\n",
    "\n",
    "hidden_states2 = result2[2]\n",
    "hidden_states3 = result3[2]\n",
    "hidden_states4 = result4[2]\n",
    "sent_vec_avg2 = torch.mean(hidden_states2[-1], dim=1).squeeze()\n",
    "sent_vec_avg3 = torch.mean(hidden_states3[-1], dim=1).squeeze()\n",
    "sent_vec_avg4 = torch.mean(hidden_states4[-1], dim=1).squeeze()\n",
    "\n",
    "cos_sim_12 = cos(sent_vec_avg1, sent_vec_avg2)\n",
    "cos_sim_13 = cos(sent_vec_avg1, sent_vec_avg3)\n",
    "cos_sim_14 = cos(sent_vec_avg1, sent_vec_avg4)\n",
    "print(cos_sim_12)\n",
    "print(cos_sim_13)\n",
    "print(cos_sim_14)"
   ]
  }
 ]
}